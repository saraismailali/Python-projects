{
  "nbformat": 4,
  "nbformat_minor": 0,
  "metadata": {
    "colab": {
      "provenance": []
    },
    "kernelspec": {
      "name": "python3",
      "display_name": "Python 3"
    },
    "language_info": {
      "name": "python"
    }
  },
  "cells": [
    {
      "cell_type": "code",
      "source": [
        "!pip install ffmpeg-python"
      ],
      "metadata": {
        "id": "EMpUiCF1o9xR"
      },
      "execution_count": null,
      "outputs": []
    },
    {
      "cell_type": "code",
      "source": [
        "import cv2\n",
        "import os\n",
        "import ffmpeg\n",
        "# Load the input video\n",
        "input_video = cv2.VideoCapture(\"Datacompression.mp4\")\n",
        "\n",
        "# Get the input video dimensions\n",
        "width = int(input_video.get(cv2.CAP_PROP_FRAME_WIDTH))\n",
        "height = int(input_video.get(cv2.CAP_PROP_FRAME_HEIGHT))\n",
        "\n",
        "# Get the input video frame rate\n",
        "fps = int(input_video.get(cv2.CAP_PROP_FPS))\n",
        "\n",
        "# Get the input video size (in bytes)\n",
        "input_size = os.path.getsize(\"Datacompression.mp4\")\n",
        "\n",
        "# Initialize the output video writer\n",
        "fourcc = cv2.VideoWriter_fourcc(*\"MP4V\")\n",
        "output_video = cv2.VideoWriter(\n",
        "    \"output_videoo.mp4\", fourcc, fps, (width//2, height//2), True)\n",
        "\n",
        "# Read and compress each frame of the input video\n",
        "while True:\n",
        "    ret, frame = input_video.read()\n",
        "    if not ret:\n",
        "        break\n",
        "    compressed_frame = cv2.resize(\n",
        "        frame, (width//2, height//2), interpolation=cv2.INTER_AREA)\n",
        "    output_video.write(compressed_frame)\n",
        "\n",
        "# Release the input and output video objects\n",
        "input_video.release()\n",
        "output_video.release()\n",
        "\n",
        "# Set the target bitrate (in kbps)\n",
        "probe = ffmpeg.probe(\"output_videoo.mp4\")\n",
        "video_bitrate = next(s for s in probe['streams'] if s['codec_type'] == 'video')\n",
        "bitrate = int(int(video_bitrate['bit_rate']) / 1000)\n",
        "\n",
        "print(bitrate)\n",
        "target_bitrate = str(int(bitrate *0.5))+\"k\"\n",
        "print(target_bitrate)\n",
        "ffmpeg.input(\"output_videoo.mp4\").output( \"output_video.mp4\", b=target_bitrate).run()\n",
        "# Get the compressed video size (in bytes)\n",
        "output_size = os.path.getsize(\"output_video.mp4\")\n",
        "\n",
        "# Print the input video characteristics\n",
        "print(f\"Input video dimensions: {width}x{height}\")\n",
        "print(f\"Input video frame rate: {fps}\")\n",
        "print(f\"Input video size: {input_size} bytes\")\n",
        "# Print the compressed video characteristics\n",
        "print(f\"Compressed video dimensions: {width//2}x{height//2}\")\n",
        "print(f\"Compressed video frame rate: {fps}\")\n",
        "print(f\"Compressed video size: {output_size} bytes\")\n"
      ],
      "metadata": {
        "colab": {
          "base_uri": "https://localhost:8080/"
        },
        "id": "2UqEokBb2zyy",
        "outputId": "27ab2542-cc54-4f5d-eb0f-5527ac11c4b4"
      },
      "execution_count": null,
      "outputs": [
        {
          "output_type": "stream",
          "name": "stdout",
          "text": [
            "7312\n",
            "3656k\n",
            "Input video dimensions: 1920x992\n",
            "Input video frame rate: 37\n",
            "Input video size: 30384565 bytes\n",
            "Compressed video dimensions: 960x496\n",
            "Compressed video frame rate: 37\n",
            "Compressed video size: 5445930 bytes\n"
          ]
        }
      ]
    },
    {
      "cell_type": "code",
      "source": [],
      "metadata": {
        "colab": {
          "base_uri": "https://localhost:8080/"
        },
        "id": "m1qF_fQRehyM",
        "outputId": "be97f7f6-0479-4509-b9e4-f5766525e2e3"
      },
      "execution_count": null,
      "outputs": [
        {
          "output_type": "stream",
          "name": "stdout",
          "text": [
            "Looking in indexes: https://pypi.org/simple, https://us-python.pkg.dev/colab-wheels/public/simple/\n",
            "Collecting ffmpeg-python\n",
            "  Downloading ffmpeg_python-0.2.0-py3-none-any.whl (25 kB)\n",
            "Requirement already satisfied: future in /usr/local/lib/python3.10/dist-packages (from ffmpeg-python) (0.18.3)\n",
            "Installing collected packages: ffmpeg-python\n",
            "Successfully installed ffmpeg-python-0.2.0\n"
          ]
        }
      ]
    },
    {
      "cell_type": "code",
      "source": [],
      "metadata": {
        "id": "UIn3tHE4fRT0"
      },
      "execution_count": null,
      "outputs": []
    },
    {
      "cell_type": "code",
      "source": [],
      "metadata": {
        "id": "I299ffDg1Vb6"
      },
      "execution_count": null,
      "outputs": []
    },
    {
      "cell_type": "markdown",
      "source": [
        "# New Section"
      ],
      "metadata": {
        "id": "y3s7NKgJjHww"
      }
    }
  ]
}